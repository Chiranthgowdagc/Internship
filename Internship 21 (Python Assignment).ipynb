{
 "cells": [
  {
   "cell_type": "markdown",
   "id": "350e58de",
   "metadata": {},
   "source": [
    "python program to find the factorial of a number"
   ]
  },
  {
   "cell_type": "code",
   "execution_count": 5,
   "id": "e738bc60",
   "metadata": {},
   "outputs": [],
   "source": [
    "def fact(n):\n",
    "    if(n==0):\n",
    "        return 1\n",
    "    else:\n",
    "        return n*fact(n-1)\n",
    "    X=int(input(\"Enter X:\"))\n",
    "    Y=fact(x)\n",
    "    print(\"{}! = {}\".format(x,y))"
   ]
  },
  {
   "cell_type": "markdown",
   "id": "fcf7e9e7",
   "metadata": {},
   "source": [
    "python program to find whether a number is prime or composite"
   ]
  },
  {
   "cell_type": "code",
   "execution_count": null,
   "id": "3ac9133d",
   "metadata": {},
   "outputs": [],
   "source": [
    "num=int(input(\"Enter a number:\"))\n",
    "if num>1:\n",
    "    for i in range(2,num):\n",
    "        print(num,\"is not a prime number\")\n",
    "        print(i, \"times\",num//i,\"is\",num)\n",
    "        break\n",
    "    else:\n",
    "            print(num,\"is a prime number\")\n",
    "    else:\n",
    "            print(num,\"is not a prime number\")"
   ]
  },
  {
   "cell_type": "markdown",
   "id": "cfdc7865",
   "metadata": {},
   "source": [
    " python program to check whether a given string is palindrome or not"
   ]
  },
  {
   "cell_type": "code",
   "execution_count": null,
   "id": "79115166",
   "metadata": {},
   "outputs": [],
   "source": [
    "def check(st):\n",
    "    rev=st[::-1]\n",
    "    print(\"string : \",st)\n",
    "    print(\"Reverse : \",rev)\n",
    "    is(st==rev):\n",
    "        return True\n",
    "    else:\n",
    "        return False\n",
    "    \n",
    " X=input(\"Enter a String:\")\n",
    "if Check(x):\n",
    "    print(\"It is a Palindrome\")\n",
    "else:\n",
    "    print(\"I is NOT a Palindrome\")"
   ]
  },
  {
   "cell_type": "markdown",
   "id": "13a9bfac",
   "metadata": {},
   "source": [
    "Python program to get the third side of right-angled triangle from two given sides"
   ]
  },
  {
   "cell_type": "code",
   "execution_count": null,
   "id": "a341f384",
   "metadata": {},
   "outputs": [],
   "source": [
    "def pythagoras(opposite_side,adjacent_side,hyotenuse):\n",
    "    if opposite_side == str(\"x\"):\n",
    "        return (\"opposite = \"+ str(((hypotenuse**2)-(adjacent_side**2))**0.5))\n",
    "    elif adjacent_side == str(\"x\"):\n",
    "        return (\"Adjacent = \"+ str(((hypotenuse**2)-(opposite_side**2))**0.5))\n",
    "    elif hypotenuse == str(\"x\"):\n",
    "        return (\"Hypotenuse =\"+ str(((opposite_sde**2)+(adjacent_side**2))**0.5))\n",
    "    else:\n",
    "        return \"You know the answer!\"\n",
    "print(pythagoras(3,4,'x'))\n",
    "print(pythagoras(3,'x,5'))\n",
    "print(pythagoras('x',4,5))\n",
    "print(pythagoras(3,4,5))"
   ]
  },
  {
   "cell_type": "markdown",
   "id": "203a66bb",
   "metadata": {},
   "source": [
    "python program to print the frequency of each of the characters present in a given string"
   ]
  },
  {
   "cell_type": "code",
   "execution_count": null,
   "id": "4aecb141",
   "metadata": {},
   "outputs": [],
   "source": [
    "input_string=\"Data Science\"\n",
    "frequencies={}\n",
    "\n",
    "for char in input_string:\n",
    "    if char in frequencies:\n",
    "        frequencies[char]+=1\n",
    "        else:\n",
    "            frequencies[char]=1\n",
    "            \n",
    "# Show Output\n",
    "print(\"per char frequency in '{}' is :\\n{}\".format(input_string, str(frequencies)))"
   ]
  },
  {
   "cell_type": "code",
   "execution_count": null,
   "id": "6efc6f78",
   "metadata": {},
   "outputs": [],
   "source": []
  }
 ],
 "metadata": {
  "kernelspec": {
   "display_name": "Python 3",
   "language": "python",
   "name": "python3"
  },
  "language_info": {
   "codemirror_mode": {
    "name": "ipython",
    "version": 3
   },
   "file_extension": ".py",
   "mimetype": "text/x-python",
   "name": "python",
   "nbconvert_exporter": "python",
   "pygments_lexer": "ipython3",
   "version": "3.8.8"
  }
 },
 "nbformat": 4,
 "nbformat_minor": 5
}
